{
 "cells": [
  {
   "cell_type": "markdown",
   "id": "02c80d52-ba33-44b1-be06-ff4bd47dfa7a",
   "metadata": {
    "tags": []
   },
   "source": [
    "# Part A - Graph Stats"
   ]
  },
  {
   "cell_type": "markdown",
   "id": "fb7877aa-5213-4f24-b2ce-437e49462828",
   "metadata": {},
   "source": [
    "## Imports"
   ]
  },
  {
   "cell_type": "code",
   "execution_count": 8,
   "id": "93d2f288-247c-469e-b177-092a64c7904f",
   "metadata": {},
   "outputs": [],
   "source": [
    "import pandas as pd\n",
    "import networkx\n",
    "import time\n",
    "import utils.config as config "
   ]
  },
  {
   "cell_type": "markdown",
   "id": "95277e3f-07eb-4424-ba35-9782622ddb52",
   "metadata": {},
   "source": [
    "## Introduction"
   ]
  },
  {
   "cell_type": "markdown",
   "id": "5266fa7d-48ed-40cb-9c9a-d5b7a56930a2",
   "metadata": {},
   "source": [
    "we will investigate two different social networks.\n",
    "\n",
    "PartA1.csv/PartA2.csv – Two datasets representing a similar social network from two different countries (One network is for Portuguese and the other for British, so the question is which is which?). \n",
    "\n",
    "We will use them in part A of this exercise (hence their names). \n",
    "\n",
    "Each row represents an undirected edge (connection) between two persons, represented by their ids."
   ]
  },
  {
   "cell_type": "markdown",
   "id": "7dae784f-cc71-425f-a4b0-9de1c8fa06a1",
   "metadata": {},
   "source": [
    "## Datasets"
   ]
  },
  {
   "cell_type": "code",
   "execution_count": 9,
   "id": "cc351dc3-6f93-4bef-8d03-908bbf740d9b",
   "metadata": {},
   "outputs": [
    {
     "name": "stdout",
     "output_type": "stream",
     "text": [
      "size of PartA1 dataset is: 35324\n",
      "\n"
     ]
    },
    {
     "data": {
      "text/html": [
       "<div>\n",
       "<style scoped>\n",
       "    .dataframe tbody tr th:only-of-type {\n",
       "        vertical-align: middle;\n",
       "    }\n",
       "\n",
       "    .dataframe tbody tr th {\n",
       "        vertical-align: top;\n",
       "    }\n",
       "\n",
       "    .dataframe thead th {\n",
       "        text-align: right;\n",
       "    }\n",
       "</style>\n",
       "<table border=\"1\" class=\"dataframe\">\n",
       "  <thead>\n",
       "    <tr style=\"text-align: right;\">\n",
       "      <th></th>\n",
       "      <th>from</th>\n",
       "      <th>to</th>\n",
       "    </tr>\n",
       "  </thead>\n",
       "  <tbody>\n",
       "    <tr>\n",
       "      <th>0</th>\n",
       "      <td>6194</td>\n",
       "      <td>255</td>\n",
       "    </tr>\n",
       "    <tr>\n",
       "      <th>1</th>\n",
       "      <td>6194</td>\n",
       "      <td>980</td>\n",
       "    </tr>\n",
       "    <tr>\n",
       "      <th>2</th>\n",
       "      <td>6194</td>\n",
       "      <td>2992</td>\n",
       "    </tr>\n",
       "    <tr>\n",
       "      <th>3</th>\n",
       "      <td>6194</td>\n",
       "      <td>2507</td>\n",
       "    </tr>\n",
       "    <tr>\n",
       "      <th>4</th>\n",
       "      <td>6194</td>\n",
       "      <td>986</td>\n",
       "    </tr>\n",
       "  </tbody>\n",
       "</table>\n",
       "</div>"
      ],
      "text/plain": [
       "   from    to\n",
       "0  6194   255\n",
       "1  6194   980\n",
       "2  6194  2992\n",
       "3  6194  2507\n",
       "4  6194   986"
      ]
     },
     "execution_count": 9,
     "metadata": {},
     "output_type": "execute_result"
    }
   ],
   "source": [
    "df_A1 = pd.read_csv(config.filenameA1)\n",
    "print(f'size of PartA1 dataset is: {len(df_A1)}\\n')\n",
    "df_A1.head()"
   ]
  },
  {
   "cell_type": "code",
   "execution_count": 10,
   "id": "a4f7a86a-2b3a-4638-aa75-26542e36901c",
   "metadata": {},
   "outputs": [
    {
     "name": "stdout",
     "output_type": "stream",
     "text": [
      "size of PartA2 dataset is: 31299\n",
      "\n"
     ]
    },
    {
     "data": {
      "text/html": [
       "<div>\n",
       "<style scoped>\n",
       "    .dataframe tbody tr th:only-of-type {\n",
       "        vertical-align: middle;\n",
       "    }\n",
       "\n",
       "    .dataframe tbody tr th {\n",
       "        vertical-align: top;\n",
       "    }\n",
       "\n",
       "    .dataframe thead th {\n",
       "        text-align: right;\n",
       "    }\n",
       "</style>\n",
       "<table border=\"1\" class=\"dataframe\">\n",
       "  <thead>\n",
       "    <tr style=\"text-align: right;\">\n",
       "      <th></th>\n",
       "      <th>from</th>\n",
       "      <th>to</th>\n",
       "    </tr>\n",
       "  </thead>\n",
       "  <tbody>\n",
       "    <tr>\n",
       "      <th>0</th>\n",
       "      <td>0</td>\n",
       "      <td>92</td>\n",
       "    </tr>\n",
       "    <tr>\n",
       "      <th>1</th>\n",
       "      <td>0</td>\n",
       "      <td>428</td>\n",
       "    </tr>\n",
       "    <tr>\n",
       "      <th>2</th>\n",
       "      <td>1</td>\n",
       "      <td>689</td>\n",
       "    </tr>\n",
       "    <tr>\n",
       "      <th>3</th>\n",
       "      <td>1</td>\n",
       "      <td>1147</td>\n",
       "    </tr>\n",
       "    <tr>\n",
       "      <th>4</th>\n",
       "      <td>1</td>\n",
       "      <td>1666</td>\n",
       "    </tr>\n",
       "  </tbody>\n",
       "</table>\n",
       "</div>"
      ],
      "text/plain": [
       "   from    to\n",
       "0     0    92\n",
       "1     0   428\n",
       "2     1   689\n",
       "3     1  1147\n",
       "4     1  1666"
      ]
     },
     "execution_count": 10,
     "metadata": {},
     "output_type": "execute_result"
    }
   ],
   "source": [
    "df_A2 = pd.read_csv(config.filenameA2)\n",
    "print(f'size of PartA2 dataset is: {len(df_A2)}\\n')\n",
    "df_A2.head()"
   ]
  },
  {
   "cell_type": "markdown",
   "id": "9c34f34f-47a5-42bc-8b04-eab5151c3f79",
   "metadata": {},
   "source": [
    "## Graph Nodes Degree Histograms"
   ]
  },
  {
   "cell_type": "markdown",
   "id": "4e931a39-3957-4081-ae76-5f60e55796d3",
   "metadata": {},
   "source": [
    "we wish to get a feel for the graph.\n",
    "\n",
    "Visualizing thousands of nodes and edges is not always informative. Instead, we can visualize the histogram nodes degree, i.e., we count how many nodes have only one neighbor, how many nodes have two neighbors, and so on.\n",
    "\n",
    "In addition we calculate the score of the networks clustering coefficient (our implementation).\n",
    "\n",
    "the clustering coefficient is a measure of the density of a network. When these connections are dense, the clustering coefficient is high. For example, if your “friends” all know each other, you have a high clustering coefficient. If your “friends” don't know each other, then you have a low clustering coefficient."
   ]
  },
  {
   "cell_type": "code",
   "execution_count": 11,
   "id": "cd6348b1-4225-4d03-ad9f-bc02ef6d2594",
   "metadata": {},
   "outputs": [],
   "source": [
    "from utils.graph_stats import calc_degree_histogram, plot_degree_histogram, build_graph, clustering_coefficient\n",
    "\n",
    "def stats(f):\n",
    "    start_time = time.time()\n",
    "    G = build_graph(filename=str(f))\n",
    "    dict_of_degrees = calc_degree_histogram(G)\n",
    "    plot_degree_histogram(dict_of_degrees, f)\n",
    "    graph_cc = clustering_coefficient(G)\n",
    "    return G, dict_of_degrees, graph_cc, start_time"
   ]
  },
  {
   "cell_type": "code",
   "execution_count": 12,
   "id": "ef55808c-7bf5-47f5-a1e9-1d51c716c40d",
   "metadata": {},
   "outputs": [
    {
     "data": {
      "image/png": "[encoded data removed]",
      "text/plain": [
       "<Figure size 432x288 with 1 Axes>"
      ]
     },
     "metadata": {
      "needs_background": "light"
     },
     "output_type": "display_data"
    },
    {
     "name": "stdout",
     "output_type": "stream",
     "text": [
      "\n",
      "PartA1.csv clustering coefficient is:\t0.04243324947984254\n",
      "A1 section took:  --- 1.5579981803894043 seconds ---\n"
     ]
    }
   ],
   "source": [
    "G_A1, dict_of_degrees_A1, graph_cc_A1, start_time_A1 = stats(filenameA1)\n",
    "\n",
    "f_A1 = filenameA1.split('/')[1]\n",
    "print(f'\\n{f_A1} clustering coefficient is:\\t{graph_cc_A1}')\n",
    "print(\"A1 section took:  --- %s seconds ---\" % (time.time() - start_time_A1))"
   ]
  },
  {
   "cell_type": "code",
   "execution_count": 13,
   "id": "d70ee91f-34cd-47a7-bfc8-a150781bb2ef",
   "metadata": {},
   "outputs": [
    {
     "data": {
      "image/png": "[encoded data removed]",
      "text/plain": [
       "<Figure size 432x288 with 1 Axes>"
      ]
     },
     "metadata": {
      "needs_background": "light"
     },
     "output_type": "display_data"
    },
    {
     "name": "stdout",
     "output_type": "stream",
     "text": [
      "\n",
      "PartA2.csv clustering coefficient is:\t0.1309809619261169\n",
      "A2 section took:  --- 3.521728992462158 seconds ---\n"
     ]
    }
   ],
   "source": [
    "G_A2, dict_of_degrees_A2, graph_cc_A2, start_time_A2 = stats(filenameA2)\n",
    "\n",
    "f_A2 = filenameA2.split('/')[1]\n",
    "print(f'\\n{f_A2} clustering coefficient is:\\t{graph_cc_A2}')\n",
    "print(\"A2 section took:  --- %s seconds ---\" % (time.time() - start_time_A2))"
   ]
  },
  {
   "cell_type": "markdown",
   "id": "7faca9b7-11f2-45e0-b4ed-3db6ed38ead0",
   "metadata": {},
   "source": [
    "## Primary analysis - which file represents Portugal network ?"
   ]
  },
  {
   "cell_type": "markdown",
   "id": "2123e516-c2a9-419a-aefe-a53bc0b2ddc6",
   "metadata": {},
   "source": [
    "As we can see we got from the A1, A2 files two graphs and histograms with similar scatter.\n",
    "At the same time there is a significant difference in the number of nodes at each point in the histogram (that is, the number of nodes who Have the same rank in the graph).\n",
    "It can be seen that in the histogram of file A1 there are more nodes than in A2.\n",
    "We can therefore conclude that the A2 file, represents Portugal since it has a smaller number of citizens\n",
    "Than Britain.\n",
    "Portugal has about 10.28 million citizens compared to the United Kingdom which has about 66.65 million citizens."
   ]
  }
 ],
 "metadata": {
  "kernelspec": {
   "display_name": "Python 3 (ipykernel)",
   "language": "python",
   "name": "python3"
  },
  "language_info": {
   "codemirror_mode": {
    "name": "ipython",
    "version": 3
   },
   "file_extension": ".py",
   "mimetype": "text/x-python",
   "name": "python",
   "nbconvert_exporter": "python",
   "pygments_lexer": "ipython3",
   "version": "3.8.12"
  }
 },
 "nbformat": 4,
 "nbformat_minor": 5
}
