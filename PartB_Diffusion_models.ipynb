{
 "cells": [
  {
   "cell_type": "markdown",
   "id": "b1d684d7-5568-4b4e-afda-7249e3956d55",
   "metadata": {},
   "source": [
    "# Part B - Diffusion Models"
   ]
  },
  {
   "cell_type": "markdown",
   "id": "25d5b082-a20a-4de7-aaa1-039a2ff96c91",
   "metadata": {},
   "source": [
    "## Imports"
   ]
  },
  {
   "cell_type": "code",
   "execution_count": 8,
   "id": "4eb2fac9-87d3-4e22-b39f-29236d75f6a7",
   "metadata": {},
   "outputs": [],
   "source": [
    "from typing import List, Set, Dict\n",
    "import matplotlib.pyplot as plt\n",
    "import pandas as pd\n",
    "import numpy as np\n",
    "import networkx\n",
    "import copy\n",
    "import time\n",
    "from utils.graph_stats import calc_degree_histogram, plot_degree_histogram, build_graph, clustering_coefficient\n",
    "from utils.diffusion_models import LTM, ICM, compute_lethality_effect, plot_lethality_effect\n",
    "import utils.config as config\n",
    "# from main import choose_who_to_vaccinate, ICM, LTM, compute_lethality_effect, plot_lethality_effect"
   ]
  },
  {
   "cell_type": "markdown",
   "id": "3ebf4758-f4b0-4961-a1ad-de07e35418d7",
   "metadata": {},
   "source": [
    "## Background Story"
   ]
  },
  {
   "cell_type": "markdown",
   "id": "df57ff86-203d-4f7c-a6f7-612e21e65d9d",
   "metadata": {},
   "source": [
    "More than 2.7 million deaths and 125 million cases worldwide were brought to the world by the Covid-19 pandemic. \n",
    "\n",
    "Many experts warn that the new globalized world is very vulnerable to such contagious diseases. Although Covid-19 is far from over, we must prepare for the next inevitable pandemic called: \"pandemic X.\"\n",
    "\n",
    "The Israeli minister of health appointed you to study and simulate different Diffusion models in order to understand the consequences of \"pandemic X,\" taking into account the following variables:"
   ]
  },
  {
   "cell_type": "markdown",
   "id": "ff4019f6-47bd-40e5-bde8-583350dae7b3",
   "metadata": {},
   "source": [
    "## Variables"
   ]
  },
  {
   "cell_type": "markdown",
   "id": "6ac34aa9-6b12-4526-bad3-cc95a992fc4f",
   "metadata": {},
   "source": [
    "Contagion (static) – A real number that describes how contagious the disease is. \n",
    "\n",
    "Lethality (static) – The probability for an infected person to die from the disease. \n",
    "\n",
    "Concern (dynamic) – How worried is a particular person about the disease. The concern will cause a person to alter their behavior and reduce their chance of being infected.\n",
    "\n",
    "To formalize our notation, we also define the following sets:"
   ]
  },
  {
   "cell_type": "markdown",
   "id": "b2970f1f-5127-4f79-b3da-8df99eced99a",
   "metadata": {},
   "source": [
    "## Sets"
   ]
  },
  {
   "cell_type": "markdown",
   "id": "fa59ac6c-7e02-47d7-a375-91b6c5aa5e6f",
   "metadata": {},
   "source": [
    "${V}$ – The set of all people (Vertices in our graph) \n",
    "\n",
    "${E}$ – The set of all undirected relations between two people (Edges in our graph) \n",
    "\n",
    "${I^0}$ – The set of initial patients ${I^0}\\subset{V}$\n",
    "\n",
    "${S^t}$ – The set of Susceptible people at the end of iteration t (who are not infected), ${S^0}={V}\\setminus{I^0}$\n",
    "\n",
    "${I^t}$ – The set of Infected and alive people, at the end of iteration t \n",
    "\n",
    "${R^t}$ – The set of Removed (infected and deceased) people at the end of iteration t \n",
    "\n",
    "Pay attention that ${S^t}$, ${I^t}$, ${R^t}$ are disjoint, that is, ${S^t}\\cap{I^t}={S_t}\\cap{R^t}={I^t}\\cap{R^t}=\\emptyset , \\forall t$"
   ]
  },
  {
   "cell_type": "code",
   "execution_count": 9,
   "id": "9600b59d-d46f-4ba8-ba69-c2b1c3afdf38",
   "metadata": {},
   "outputs": [],
   "source": [
    "\"\"\"Global Hyper-parameters\"\"\"\n",
    "\n",
    "LETHALITY_ = 0.15\n",
    "CONTAGION_ = 0.8"
   ]
  },
  {
   "cell_type": "markdown",
   "id": "1773c618-1251-4539-a99e-c0d2059db77e",
   "metadata": {},
   "source": [
    "## Datasets"
   ]
  },
  {
   "cell_type": "code",
   "execution_count": 10,
   "id": "8d330705-44d8-46d2-ae5f-8dedacb8e896",
   "metadata": {},
   "outputs": [
    {
     "name": "stdout",
     "output_type": "stream",
     "text": [
      "size of Patients0 dataset is: 50\n",
      "\n"
     ]
    },
    {
     "data": {
      "text/html": [
       "<div>\n",
       "<style scoped>\n",
       "    .dataframe tbody tr th:only-of-type {\n",
       "        vertical-align: middle;\n",
       "    }\n",
       "\n",
       "    .dataframe tbody tr th {\n",
       "        vertical-align: top;\n",
       "    }\n",
       "\n",
       "    .dataframe thead th {\n",
       "        text-align: right;\n",
       "    }\n",
       "</style>\n",
       "<table border=\"1\" class=\"dataframe\">\n",
       "  <thead>\n",
       "    <tr style=\"text-align: right;\">\n",
       "      <th></th>\n",
       "      <th>0</th>\n",
       "    </tr>\n",
       "  </thead>\n",
       "  <tbody>\n",
       "    <tr>\n",
       "      <th>0</th>\n",
       "      <td>19091</td>\n",
       "    </tr>\n",
       "    <tr>\n",
       "      <th>1</th>\n",
       "      <td>13254</td>\n",
       "    </tr>\n",
       "    <tr>\n",
       "      <th>2</th>\n",
       "      <td>5162</td>\n",
       "    </tr>\n",
       "    <tr>\n",
       "      <th>3</th>\n",
       "      <td>25182</td>\n",
       "    </tr>\n",
       "    <tr>\n",
       "      <th>4</th>\n",
       "      <td>10872</td>\n",
       "    </tr>\n",
       "  </tbody>\n",
       "</table>\n",
       "</div>"
      ],
      "text/plain": [
       "       0\n",
       "0  19091\n",
       "1  13254\n",
       "2   5162\n",
       "3  25182\n",
       "4  10872"
      ]
     },
     "execution_count": 10,
     "metadata": {},
     "output_type": "execute_result"
    }
   ],
   "source": [
    "# filename_patients0 = \"data/patients0.csv\"\n",
    "patients_df = pd.read_csv(config.filename_patients0, header=None)\n",
    "print(f'size of Patients0 dataset is: {len(patients_df)}\\n')\n",
    "patients_df.head()"
   ]
  },
  {
   "cell_type": "code",
   "execution_count": 11,
   "id": "a25dcbbf-8f29-4408-9f59-9855041a308d",
   "metadata": {},
   "outputs": [
    {
     "name": "stdout",
     "output_type": "stream",
     "text": [
      "size of PartB-C dataset is: 92753\n",
      "\n"
     ]
    },
    {
     "data": {
      "text/html": [
       "<div>\n",
       "<style scoped>\n",
       "    .dataframe tbody tr th:only-of-type {\n",
       "        vertical-align: middle;\n",
       "    }\n",
       "\n",
       "    .dataframe tbody tr th {\n",
       "        vertical-align: top;\n",
       "    }\n",
       "\n",
       "    .dataframe thead th {\n",
       "        text-align: right;\n",
       "    }\n",
       "</style>\n",
       "<table border=\"1\" class=\"dataframe\">\n",
       "  <thead>\n",
       "    <tr style=\"text-align: right;\">\n",
       "      <th></th>\n",
       "      <th>0</th>\n",
       "      <th>1</th>\n",
       "      <th>2</th>\n",
       "    </tr>\n",
       "  </thead>\n",
       "  <tbody>\n",
       "    <tr>\n",
       "      <th>0</th>\n",
       "      <td>from</td>\n",
       "      <td>to</td>\n",
       "      <td>w</td>\n",
       "    </tr>\n",
       "    <tr>\n",
       "      <th>1</th>\n",
       "      <td>0</td>\n",
       "      <td>14270</td>\n",
       "      <td>0.410087555</td>\n",
       "    </tr>\n",
       "    <tr>\n",
       "      <th>2</th>\n",
       "      <td>0</td>\n",
       "      <td>16976</td>\n",
       "      <td>0.270293298</td>\n",
       "    </tr>\n",
       "    <tr>\n",
       "      <th>3</th>\n",
       "      <td>0</td>\n",
       "      <td>12029</td>\n",
       "      <td>0.053567498</td>\n",
       "    </tr>\n",
       "    <tr>\n",
       "      <th>4</th>\n",
       "      <td>0</td>\n",
       "      <td>3001</td>\n",
       "      <td>0.819193013</td>\n",
       "    </tr>\n",
       "  </tbody>\n",
       "</table>\n",
       "</div>"
      ],
      "text/plain": [
       "      0      1            2\n",
       "0  from     to            w\n",
       "1     0  14270  0.410087555\n",
       "2     0  16976  0.270293298\n",
       "3     0  12029  0.053567498\n",
       "4     0   3001  0.819193013"
      ]
     },
     "execution_count": 11,
     "metadata": {},
     "output_type": "execute_result"
    }
   ],
   "source": [
    "# filename_B_C = \"data\\PartB-C.csv\"\n",
    "df_B_C = pd.read_csv(config.filename_B_C, header=None)\n",
    "print(f'size of PartB-C dataset is: {len(df_B_C)}\\n')\n",
    "df_B_C.head()"
   ]
  },
  {
   "cell_type": "markdown",
   "id": "61149913-cb3a-4de4-932e-95168a072a37",
   "metadata": {},
   "source": [
    "## Linear threshold model"
   ]
  },
  {
   "cell_type": "markdown",
   "id": "ef587104-4db0-4ab6-823b-0145f82c09d9",
   "metadata": {},
   "source": [
    "- Each edge ${(u,v)} \\in {E}$ has a weight ${w_{uv}} \\in {[0,1]}$ that represents the relationship strength of persons u and v, which implies their exposure to each other\n",
    "- Each person v has a concern variable ${c_v^t} = \\frac{|\\left\\{{u}:{(u,v)}\\in{E}\\right\\}\\cap{I^{t-1}}|}{|\\left\\{{u}:{(u,v)}\\in{E}\\right\\}|}*$\n",
    "- In every step ${t} = 1,2,...:$\n",
    "\n",
    "    1. Every ${v} \\in {S^{t-1}}$ watchse all of her infected neighbors ${cv_n} = \\left\\{{u}:{(u,v)}\\in{E}\\right\\}\\cap{I^{t-1}}$\n",
    "        - If ${Contagion} * \\sum_{{u} \\in {cv_n}} {W_{u,v}} \\geq {c_v^{t-1}}$ , then ${v}$ is in ${I^t}$\n",
    "    2. ${S^t}={V}/{I^t}$\n",
    "    3. Every ${v} \\in {S^{t}}$ updates her concern ${c_v^t}$\n",
    "\n",
    "\n",
    "$*$ Pay attention that ${c_v^t}$ depends on ${I^{t-1}}$ the reason for it is to simulate the case where a person is first exposed to her infected friend and only afterwards aware that her friend was infected."
   ]
  },
  {
   "cell_type": "code",
   "execution_count": 12,
   "id": "ac55a33e-2c5b-43af-809a-9799a19f5b17",
   "metadata": {},
   "outputs": [
    {
     "name": "stdout",
     "output_type": "stream",
     "text": [
      "1:  --- 1.3650009632110596 seconds ---\n"
     ]
    }
   ],
   "source": [
    "patients_list = patients_df.iloc[:, 0].tolist()\n",
    "G = build_graph(filename=config.filename_B_C)\n",
    "start_time = time.time()\n",
    "infected_after_t_iterations_LTM = LTM(graph=G, patients_0=patients_list[:30], iterations=6)\n",
    "print(\"1:  --- %s seconds ---\" % (time.time() - start_time))"
   ]
  },
  {
   "cell_type": "markdown",
   "id": "488d32b5-8208-4ff6-892d-20b316f6a474",
   "metadata": {},
   "source": [
    "## Independent cascade model (stochastic)"
   ]
  },
  {
   "cell_type": "markdown",
   "id": "94420c43-d5a3-4d37-b4ad-f0e864889f93",
   "metadata": {},
   "source": [
    "- Each edge ${(u,v)} \\in {E}$ has a weight ${w_{uv}} \\in {[0,1]}$ such that if person u is infected, then ${w_{uv}}$ will affect ${P_{u,v}^{t}}$ which is defined below\n",
    "- If a person is infected, they are removed with probability Lethality without infecting anyone else.\n",
    "- Each person v has a concern variable ${c_v^t} = min(\\frac{|\\left\\{{u}:{(u,v)}\\in{E}\\right\\}\\cap{I^{t-1}} + 3*\\left\\{{u}:{(u,v)}\\in{E}\\right\\}\\cap{R^{t-1}}|}{|\\left\\{{u}:{(u,v)}\\in{E}\\right\\}|}) **$\n",
    "- Denote ${NI^t}$ are the new nodes who were infected during iteration t\n",
    "- Denote ${P_{u,v}^{t}}$ as the probability for person u to pass the virus to person v during iteration t, then: ${P_{u,v}^{t}} = min(1, Contagion*{w_{uv}}*{c_v^{t-1}})$\n",
    "- On ${t_0}$ patients also die w.p Lethality\n",
    "- In every step ${t} = 1,2,...:$\n",
    "    1. For each ${v} \\in {S^{t-1}}$ and ${u} \\in {NI^{t-1}}$ u infects v w.p ${P_{u,v}^{t}}$\n",
    "        - If infection occurs, v is added to ${NI^t}$\n",
    "    2. Every ${v} \\in {NI^{t}}$ is added to ${R^t}$ with probability Lethality\n",
    "    3. ${R^t} = {R^t}\\cup{R^{t-1}}$\n",
    "    4. ${I^t} = ({I^{t-1}}\\cup{NI^t})\\setminus{R^t}$\n",
    "    5. ${S^t} = {V}\\setminus({I^t}\\cup{R^t})$\n",
    "    6. Each ${v} \\in {S^t}$ updates concern ${c_v^t}$\n",
    "    \n",
    "\n",
    "$**$ Pay attention that ${c_v^t}$ depends on ${I^{t-1}}, {R^{t-1}}$ the reason for it is to simulate the case where a person is first exposed to her infected friend or removed and only afterwards aware that her friend was infected or removed."
   ]
  },
  {
   "cell_type": "code",
   "execution_count": 13,
   "id": "fbfcec8c-a239-4abc-bbcb-bc7bd660624c",
   "metadata": {},
   "outputs": [
    {
     "name": "stdout",
     "output_type": "stream",
     "text": [
      "mean infected per iter:11797.866666666667\n",
      "mean deceased per iter:2695.866666666667\n",
      "2:  --- 359.53219056129456 seconds ---\n"
     ]
    }
   ],
   "source": [
    "start_time = time.time()\n",
    "runs = 30\n",
    "count_infected_list = []\n",
    "count_deceased_list = []\n",
    "for run in range(runs):\n",
    "    infected_after_t_iterations_ICM, deceased_after_t_iterations_ICM = ICM(graph=G, patients_0=patients_list[:50], \n",
    "                                                                           iterations=6)\n",
    "    count_deceased_list.append(len(deceased_after_t_iterations_ICM))\n",
    "    count_infected_list.append(len(infected_after_t_iterations_ICM))\n",
    "print(f'mean infected per iter:{sum(count_infected_list) / 30}')\n",
    "print(f'mean deceased per iter:{sum(count_deceased_list) / 30}')\n",
    "print(\"2:  --- %s seconds ---\" % (time.time() - start_time))"
   ]
  },
  {
   "cell_type": "code",
   "execution_count": 14,
   "id": "ae1c5145-2d56-41d1-aa2c-372f8ad30523",
   "metadata": {},
   "outputs": [
    {
     "data": {
      "image/png": "[encoded data removed]",
      "text/plain": [
       "<Figure size 432x288 with 1 Axes>"
      ]
     },
     "metadata": {
      "needs_background": "light"
     },
     "output_type": "display_data"
    },
    {
     "name": "stdout",
     "output_type": "stream",
     "text": [
      "3:  --- 1127.6660182476044 seconds ---\n",
      "\n"
     ]
    }
   ],
   "source": [
    "start_time = time.time()\n",
    "dict_mean_deceased, dict_mean_infected = compute_lethality_effect(graph=G, t=6)\n",
    "plot_lethality_effect(dict_mean_deceased, dict_mean_infected)\n",
    "print(\"3:  --- %s seconds ---\" % (time.time() - start_time))\n",
    "print()"
   ]
  }
 ],
 "metadata": {
  "kernelspec": {
   "display_name": "Python 3 (ipykernel)",
   "language": "python",
   "name": "python3"
  },
  "language_info": {
   "codemirror_mode": {
    "name": "ipython",
    "version": 3
   },
   "file_extension": ".py",
   "mimetype": "text/x-python",
   "name": "python",
   "nbconvert_exporter": "python",
   "pygments_lexer": "ipython3",
   "version": "3.8.12"
  }
 },
 "nbformat": 4,
 "nbformat_minor": 5
}
